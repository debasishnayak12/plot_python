{
 "cells": [
  {
   "cell_type": "code",
   "execution_count": 1,
   "id": "d4d3fe5c",
   "metadata": {},
   "outputs": [],
   "source": [
    "from bokeh.plotting import figure,show"
   ]
  },
  {
   "cell_type": "markdown",
   "id": "62d9fc6d",
   "metadata": {},
   "source": [
    "# First steps 1: Creating a line chart"
   ]
  },
  {
   "cell_type": "code",
   "execution_count": 2,
   "id": "493a4203",
   "metadata": {},
   "outputs": [],
   "source": [
    "# prepare some data\n",
    "x = [1, 2, 3, 4, 5]\n",
    "y = [6, 7, 2, 4, 5]\n",
    "\n",
    "#create a plot with title and x,y axis label\n",
    "p=figure(title=\"simple line plot\",x_axis_label=\"x\",y_axis_label=\"y\")\n",
    "#add a line with legend label and line width\n",
    "p.line(x,y,legend_label=\"temp\",line_width=2,line_color=\"red\")\n",
    "show(p)"
   ]
  },
  {
   "cell_type": "code",
   "execution_count": 3,
   "id": "272d27c8",
   "metadata": {},
   "outputs": [],
   "source": [
    "#combining more lines pf data\n",
    "\n",
    "# prepare some data\n",
    "x = [1, 2, 3, 4, 5]\n",
    "y1 = [6, 7, 2, 4, 5]\n",
    "y2 = [2, 3, 4, 5, 6]\n",
    "y3 = [4, 5, 5, 7, 2]\n",
    "\n",
    "#create plot with ttitle and axis label\n",
    "p=figure(title=\"Multiline plot\",x_axis_label=\"x\",y_axis_label=\"y\")\n",
    "\n",
    "#add multiple renderers\n",
    "p.line(x,y1,legend_label=\"1st_line\",line_width=2,line_color=\"blue\")\n",
    "p.line(x,y2,legend_label=\"2nd_line\",line_width=2,line_color=\"red\")\n",
    "p.line(x,y3,legend_label=\"3rd_line\",line_width=2,line_color=\"yellow\")\n",
    "show(p)"
   ]
  },
  {
   "cell_type": "markdown",
   "id": "12635c1f",
   "metadata": {},
   "source": [
    "# First steps 2: Adding and customizing renderers"
   ]
  },
  {
   "cell_type": "code",
   "execution_count": 4,
   "id": "d60df53e",
   "metadata": {},
   "outputs": [],
   "source": [
    "# prepare some data\n",
    "x = [1, 2, 3, 4, 5]\n",
    "y1 = [6, 7, 2, 4, 5]\n",
    "y2 = [2, 3, 4, 5, 6]\n",
    "y3 = [4, 5, 5, 7, 2]\n",
    "\n",
    "# create a new plot with a title and axis labels\n",
    "p = figure(title=\"Multiple glyphs example\", x_axis_label=\"x\", y_axis_label=\"y\")\n",
    "\n",
    "# add multiple renderers\n",
    "p.line(x, y1, legend_label=\"Temp.\", color=\"#004488\", line_width=3)\n",
    "p.vbar(x=x, top=y2, legend_label=\"Rate\", color=\"yellow\", width=0.5,bottom=0)\n",
    "p.circle(x, y3, legend_label=\"Objects\", color=\"#bb5566\", size=16)\n",
    "\n",
    "# show the results\n",
    "show(p)"
   ]
  },
  {
   "cell_type": "code",
   "execution_count": 5,
   "id": "5a67a56a",
   "metadata": {},
   "outputs": [],
   "source": [
    "#circle\n",
    "from bokeh.plotting import figure, show\n",
    "\n",
    "# prepare some data\n",
    "x = [1, 2, 3, 4, 5]\n",
    "y = [4, 5, 5, 7, 2]\n",
    "\n",
    "# create a new plot with a title and axis labels\n",
    "p = figure(title=\"Glyphs properties example\", x_axis_label=\"x\", y_axis_label=\"y\")\n",
    "\n",
    "# add circle renderer with additional arguments\n",
    "p.circle(\n",
    "    x,\n",
    "    y,\n",
    "    legend_label=\"Objects\",\n",
    "    fill_color=\"red\",\n",
    "    fill_alpha=0.8,\n",
    "    line_color=\"black\",\n",
    "    size=80,\n",
    ")\n",
    "\n",
    "# show the results\n",
    "show(p)"
   ]
  },
  {
   "cell_type": "markdown",
   "id": "c5edb0e1",
   "metadata": {},
   "source": [
    "# First steps 3: Adding legends, text, and annotations"
   ]
  },
  {
   "cell_type": "code",
   "execution_count": 6,
   "id": "c677c5f8",
   "metadata": {},
   "outputs": [],
   "source": [
    "from bokeh.plotting import figure, show\n",
    "\n",
    "# prepare some data\n",
    "x = [1, 2, 3, 4, 5]\n",
    "y1 = [4, 5, 5, 7, 2]\n",
    "y2 = [2, 3, 4, 5, 6]\n",
    "\n",
    "# create a new plot\n",
    "p = figure(title=\"Legend example\")\n",
    "\n",
    "# add circle renderer with legend_label arguments\n",
    "line = p.line(x, y1, legend_label=\"Temp.\", line_color=\"blue\", line_width=2)\n",
    "circle = p.circle(\n",
    "    x,\n",
    "    y2,\n",
    "    legend_label=\"Objects\",\n",
    "    fill_color=\"red\",\n",
    "    fill_alpha=0.5,\n",
    "    line_color=\"blue\",\n",
    "    size=80,\n",
    ")\n",
    "\n",
    "# display legend in top left corner (default is top right corner)\n",
    "p.legend.location = \"top_left\"\n",
    "\n",
    "# add a title to your legend\n",
    "p.legend.title = \"Obervations\"\n",
    "\n",
    "# change appearance of legend text\n",
    "p.legend.label_text_font = \"times\"\n",
    "p.legend.label_text_font_style = \"italic\"\n",
    "p.legend.label_text_color = \"navy\"\n",
    "\n",
    "# change border and background of legend\n",
    "p.legend.border_line_width = 3\n",
    "p.legend.border_line_color = \"navy\"\n",
    "p.legend.border_line_alpha = 0.8\n",
    "p.legend.background_fill_color = \"navy\"\n",
    "p.legend.background_fill_alpha = 0.2\n",
    "\n",
    "# show the results\n",
    "show(p)"
   ]
  },
  {
   "cell_type": "code",
   "execution_count": 7,
   "id": "11160f4c",
   "metadata": {},
   "outputs": [],
   "source": [
    "# prepare some data\n",
    "x = [1, 2, 3, 4, 5]\n",
    "y1 = [4, 5, 5, 7, 2]\n",
    "y2 = [2, 3, 4, 5, 6]\n",
    "\n",
    "#create a plot \n",
    "p=figure(title=\"Legend Example\")\n",
    "\n",
    "#add line and circle \n",
    "line=p.line(x,y1,legend_label=\"Temp\",line_color=\"red\",line_width=2)\n",
    "circle=p.circle(x,y2,legend_label=\"Object\",fill_color=\"green\",fill_alpha=0.3,line_color=\"yellow\",size=80)\n",
    "\n",
    "#title of legend \n",
    "p.legend.title=\"Observation\"\n",
    "\n",
    "#display legend in top left side\n",
    "p.legend.location=\"top_left\"\n",
    "\n",
    "#change apperance of legend text\n",
    "p.legend.label_text_font = \"times\"\n",
    "p.legend.label_text_font_style = \"italic\"\n",
    "p.legend.label_text_color = \"navy\"\n",
    "\n",
    "#change border and background of legend\n",
    "p.legend.border_line_width = 3\n",
    "p.legend.border_line_color = \"blue\"\n",
    "p.legend.border_line_alpha = 0.8\n",
    "p.legend.background_fill_color = \"blue\"\n",
    "p.legend.background_fill_alpha = 0.2\n",
    "\n",
    "\n",
    "show(p)"
   ]
  },
  {
   "cell_type": "markdown",
   "id": "a6fac2d0",
   "metadata": {},
   "source": [
    "# Customizing headlines"
   ]
  },
  {
   "cell_type": "code",
   "execution_count": 8,
   "id": "22998bff",
   "metadata": {},
   "outputs": [],
   "source": [
    "from bokeh.plotting import figure, show\n",
    "\n",
    "# prepare some data\n",
    "x = [1, 2, 3, 4, 5]\n",
    "y = [6, 7, 2, 4, 5]\n",
    "\n",
    "# create new plot\n",
    "p = figure(title=\"Headline example\")\n",
    "\n",
    "# add line renderer with a legend\n",
    "p.line(x, y, legend_label=\"Temp.\", line_width=2)\n",
    "\n",
    "# change headline location to the left\n",
    "p.title_location = \"left\"\n",
    "\n",
    "# change headline text\n",
    "p.title.text = \"Changing headline text example\"\n",
    "\n",
    "# style the headline\n",
    "p.title.text_font_size = \"25px\"\n",
    "p.title.align = \"right\"\n",
    "p.title.background_fill_color = \"darkgrey\"\n",
    "p.title.text_color = \"white\"\n",
    "\n",
    "# show the results\n",
    "show(p)"
   ]
  },
  {
   "cell_type": "code",
   "execution_count": 9,
   "id": "20ea4499",
   "metadata": {},
   "outputs": [],
   "source": [
    "#another try\n",
    "\n",
    "# prepare some data\n",
    "x = [1, 2, 3, 4, 5]\n",
    "y = [6, 7, 2, 4, 5]"
   ]
  },
  {
   "cell_type": "code",
   "execution_count": 10,
   "id": "880f6b3f",
   "metadata": {},
   "outputs": [],
   "source": [
    "# create new plot\n",
    "p = figure(title=\"Headline example\")\n"
   ]
  },
  {
   "cell_type": "code",
   "execution_count": 11,
   "id": "46a86fba",
   "metadata": {},
   "outputs": [],
   "source": [
    "#add lnie renderer with a legend\n",
    "\n",
    "p.line(x,y,legend_label=\"Object\",line_width=2,line_color=\"green\")\n",
    "\n",
    "#change headline location to the left\n",
    "p.title_location=\"left\"\n",
    "\n",
    "#change headline text\n",
    "p.title.text=\"This is headline\"\n",
    "\n",
    "#style the headline\n",
    "p.title.text_font_size=\"25px\"\n",
    "p.title.align=\"right\"\n",
    "p.title.background_fill_color=\"yellow\"\n",
    "p.title.text_color=\"black\"\n",
    "show(p)"
   ]
  },
  {
   "cell_type": "code",
   "execution_count": null,
   "id": "c68923cd",
   "metadata": {},
   "outputs": [],
   "source": []
  },
  {
   "cell_type": "markdown",
   "id": "f47425de",
   "metadata": {},
   "source": [
    "# Using annotations"
   ]
  },
  {
   "cell_type": "markdown",
   "id": "e947bd99",
   "metadata": {},
   "source": [
    "Boxannotation"
   ]
  },
  {
   "cell_type": "code",
   "execution_count": 12,
   "id": "be4be4d1",
   "metadata": {},
   "outputs": [],
   "source": [
    "import random\n",
    "\n",
    "from bokeh.models import BoxAnnotation\n",
    "from bokeh.plotting import figure, show\n",
    "\n",
    "# generate some data (1-50 for x, random values for y)\n",
    "x = list(range(0, 51))\n",
    "y = random.sample(range(0, 100), 51)\n",
    "\n",
    "# create new plot\n",
    "p = figure(title=\"Box annotation example\")\n",
    "\n",
    "# add line renderer\n",
    "line = p.line(x, y, line_color=\"#000000\", line_width=2)\n",
    "\n",
    "# add box annotations\n",
    "low_box = BoxAnnotation(top=20, fill_alpha=0.2, fill_color=\"#F0E442\")\n",
    "mid_box = BoxAnnotation(bottom=20, top=80, fill_alpha=0.2, fill_color=\"#009E73\")\n",
    "high_box = BoxAnnotation(bottom=80, fill_alpha=0.2, fill_color=\"#F0E442\")\n",
    "\n",
    "# add boxes to existing figure\n",
    "p.add_layout(low_box)\n",
    "p.add_layout(mid_box)\n",
    "p.add_layout(high_box)\n",
    "\n",
    "# show the results\n",
    "show(p)"
   ]
  },
  {
   "cell_type": "code",
   "execution_count": 13,
   "id": "870ae2ec",
   "metadata": {},
   "outputs": [],
   "source": [
    "#another try\n",
    "import random\n",
    "\n",
    "from bokeh.models import BoxAnnotation\n",
    "from bokeh.plotting import figure, show\n"
   ]
  },
  {
   "cell_type": "code",
   "execution_count": 14,
   "id": "bfd68c24",
   "metadata": {},
   "outputs": [],
   "source": [
    "# generate some data (1-50 for x, random values for y)\n",
    "x = list(range(0, 51))\n",
    "y = random.sample(range(0, 100), 51)"
   ]
  },
  {
   "cell_type": "code",
   "execution_count": 15,
   "id": "f2dc76bc",
   "metadata": {},
   "outputs": [],
   "source": [
    "# create new plot\n",
    "p = figure(title=\"Box annotation example\")\n",
    "\n",
    "# add line renderer\n",
    "line = p.line(x, y, line_color=\"#000000\", line_width=2)\n"
   ]
  },
  {
   "cell_type": "code",
   "execution_count": 17,
   "id": "6f8b59ca",
   "metadata": {},
   "outputs": [],
   "source": [
    "# add box annotations\n",
    "low_box = BoxAnnotation(top=20, fill_alpha=0.5, fill_color=\"yellow\")\n",
    "mid_box = BoxAnnotation(bottom=20, top=80, fill_alpha=0.7, fill_color=\"red\")\n",
    "high_box = BoxAnnotation(bottom=80, fill_alpha=0.6, fill_color=\"green\")\n",
    "\n",
    "# add boxes to existing figure\n",
    "p.add_layout(low_box)\n",
    "p.add_layout(mid_box)\n",
    "p.add_layout(high_box)\n",
    "\n",
    "# show the results\n",
    "show(p)"
   ]
  },
  {
   "cell_type": "markdown",
   "id": "3dd027fe",
   "metadata": {},
   "source": [
    "# First steps 4:Customizing your plot"
   ]
  },
  {
   "cell_type": "markdown",
   "id": "61bf2c0a",
   "metadata": {},
   "source": [
    "# Using Themes"
   ]
  },
  {
   "cell_type": "code",
   "execution_count": 44,
   "id": "40825b3b",
   "metadata": {},
   "outputs": [],
   "source": [
    "from bokeh.io import curdoc\n",
    "from bokeh.plotting import figure, show\n",
    "\n",
    "# prepare some data\n",
    "x = [1, 2, 3, 4, 5]\n",
    "y = [4, 5, 5, 7, 2]\n",
    "\n",
    "# apply theme to current document\n",
    "curdoc().theme = \"dark_minimal\"\n",
    "\n",
    "# create a plot\n",
    "p = figure(sizing_mode=\"stretch_width\", max_width=500, height=250)\n",
    "\n",
    "# add a renderer\n",
    "p.line(x, y)\n",
    "\n",
    "# show the results\n",
    "show(p)"
   ]
  },
  {
   "cell_type": "code",
   "execution_count": 19,
   "id": "67b1ad31",
   "metadata": {},
   "outputs": [],
   "source": [
    "#again plot\n",
    "from bokeh.io import curdoc\n",
    "from bokeh.plotting import figure,show"
   ]
  },
  {
   "cell_type": "code",
   "execution_count": 20,
   "id": "174dbf66",
   "metadata": {},
   "outputs": [],
   "source": [
    "# prepare some data\n",
    "x = [1, 2, 3, 4, 5]\n",
    "y = [4, 5, 5, 7, 2]"
   ]
  },
  {
   "cell_type": "code",
   "execution_count": 27,
   "id": "caee8ab4",
   "metadata": {},
   "outputs": [
    {
     "data": {
      "text/html": [
       "<div style=\"display: table;\"><div style=\"display: table-row;\"><div style=\"display: table-cell;\"><b title=\"bokeh.models.renderers.GlyphRenderer\">GlyphRenderer</b>(</div><div style=\"display: table-cell;\">id&nbsp;=&nbsp;'3730', <span id=\"3733\" style=\"cursor: pointer;\">&hellip;)</span></div></div><div class=\"3732\" style=\"display: none;\"><div style=\"display: table-cell;\"></div><div style=\"display: table-cell;\">coordinates&nbsp;=&nbsp;None,</div></div><div class=\"3732\" style=\"display: none;\"><div style=\"display: table-cell;\"></div><div style=\"display: table-cell;\">data_source&nbsp;=&nbsp;ColumnDataSource(id='3726', ...),</div></div><div class=\"3732\" style=\"display: none;\"><div style=\"display: table-cell;\"></div><div style=\"display: table-cell;\">glyph&nbsp;=&nbsp;Line(id='3727', ...),</div></div><div class=\"3732\" style=\"display: none;\"><div style=\"display: table-cell;\"></div><div style=\"display: table-cell;\">group&nbsp;=&nbsp;None,</div></div><div class=\"3732\" style=\"display: none;\"><div style=\"display: table-cell;\"></div><div style=\"display: table-cell;\">hover_glyph&nbsp;=&nbsp;None,</div></div><div class=\"3732\" style=\"display: none;\"><div style=\"display: table-cell;\"></div><div style=\"display: table-cell;\">js_event_callbacks&nbsp;=&nbsp;{},</div></div><div class=\"3732\" style=\"display: none;\"><div style=\"display: table-cell;\"></div><div style=\"display: table-cell;\">js_property_callbacks&nbsp;=&nbsp;{},</div></div><div class=\"3732\" style=\"display: none;\"><div style=\"display: table-cell;\"></div><div style=\"display: table-cell;\">level&nbsp;=&nbsp;'glyph',</div></div><div class=\"3732\" style=\"display: none;\"><div style=\"display: table-cell;\"></div><div style=\"display: table-cell;\">muted&nbsp;=&nbsp;False,</div></div><div class=\"3732\" style=\"display: none;\"><div style=\"display: table-cell;\"></div><div style=\"display: table-cell;\">muted_glyph&nbsp;=&nbsp;Line(id='3729', ...),</div></div><div class=\"3732\" style=\"display: none;\"><div style=\"display: table-cell;\"></div><div style=\"display: table-cell;\">name&nbsp;=&nbsp;None,</div></div><div class=\"3732\" style=\"display: none;\"><div style=\"display: table-cell;\"></div><div style=\"display: table-cell;\">nonselection_glyph&nbsp;=&nbsp;Line(id='3728', ...),</div></div><div class=\"3732\" style=\"display: none;\"><div style=\"display: table-cell;\"></div><div style=\"display: table-cell;\">selection_glyph&nbsp;=&nbsp;'auto',</div></div><div class=\"3732\" style=\"display: none;\"><div style=\"display: table-cell;\"></div><div style=\"display: table-cell;\">subscribed_events&nbsp;=&nbsp;[],</div></div><div class=\"3732\" style=\"display: none;\"><div style=\"display: table-cell;\"></div><div style=\"display: table-cell;\">syncable&nbsp;=&nbsp;True,</div></div><div class=\"3732\" style=\"display: none;\"><div style=\"display: table-cell;\"></div><div style=\"display: table-cell;\">tags&nbsp;=&nbsp;[],</div></div><div class=\"3732\" style=\"display: none;\"><div style=\"display: table-cell;\"></div><div style=\"display: table-cell;\">view&nbsp;=&nbsp;CDSView(id='3731', ...),</div></div><div class=\"3732\" style=\"display: none;\"><div style=\"display: table-cell;\"></div><div style=\"display: table-cell;\">visible&nbsp;=&nbsp;True,</div></div><div class=\"3732\" style=\"display: none;\"><div style=\"display: table-cell;\"></div><div style=\"display: table-cell;\">x_range_name&nbsp;=&nbsp;'default',</div></div><div class=\"3732\" style=\"display: none;\"><div style=\"display: table-cell;\"></div><div style=\"display: table-cell;\">y_range_name&nbsp;=&nbsp;'default')</div></div></div>\n",
       "<script>\n",
       "(function() {\n",
       "  let expanded = false;\n",
       "  const ellipsis = document.getElementById(\"3733\");\n",
       "  ellipsis.addEventListener(\"click\", function() {\n",
       "    const rows = document.getElementsByClassName(\"3732\");\n",
       "    for (let i = 0; i < rows.length; i++) {\n",
       "      const el = rows[i];\n",
       "      el.style.display = expanded ? \"none\" : \"table-row\";\n",
       "    }\n",
       "    ellipsis.innerHTML = expanded ? \"&hellip;)\" : \"&lsaquo;&lsaquo;&lsaquo;\";\n",
       "    expanded = !expanded;\n",
       "  });\n",
       "})();\n",
       "</script>\n"
      ],
      "text/plain": [
       "GlyphRenderer(id='3730', ...)"
      ]
     },
     "execution_count": 27,
     "metadata": {},
     "output_type": "execute_result"
    }
   ],
   "source": [
    "#apply theme to current document\n",
    "curdoc().theme = \"dark_minimal\"\n",
    "\n",
    "#create plot\n",
    "p=figure(sizing_mode=\"stretch_width\",max_width=500,height=250)\n",
    "\n",
    "#adding renderer\n",
    "p.line(x,y)"
   ]
  },
  {
   "cell_type": "code",
   "execution_count": 28,
   "id": "c51b4069",
   "metadata": {},
   "outputs": [],
   "source": [
    "show(p)"
   ]
  },
  {
   "cell_type": "markdown",
   "id": "11d6f3f6",
   "metadata": {},
   "source": [
    "# Resizing your plot"
   ]
  },
  {
   "cell_type": "code",
   "execution_count": 30,
   "id": "9063acd2",
   "metadata": {},
   "outputs": [],
   "source": [
    "from bokeh.plotting import figure, show\n",
    "\n",
    "# prepare some data\n",
    "x = [1, 2, 3, 4, 5]\n",
    "y = [4, 5, 5, 7, 2]\n",
    "\n",
    "# create a new plot with a specific size\n",
    "p = figure(\n",
    "    title=\"Plot sizing example\",\n",
    "    width=350,\n",
    "    height=250,\n",
    "    x_axis_label=\"x\",\n",
    "    y_axis_label=\"y\",\n",
    ")\n",
    "\n",
    "# add circle renderer\n",
    "circle = p.circle(x, y, fill_color=\"red\", size=15)\n",
    "\n",
    "# show the results\n",
    "show(p)"
   ]
  },
  {
   "cell_type": "code",
   "execution_count": 31,
   "id": "676041c6",
   "metadata": {},
   "outputs": [],
   "source": [
    "#ploting again\n",
    "\n",
    "from bokeh.plotting import figure,show\n",
    "# prepare some data\n",
    "x = [1, 2, 3, 4, 5]\n",
    "y = [4, 5, 5, 7, 2]\n"
   ]
  },
  {
   "cell_type": "code",
   "execution_count": 35,
   "id": "1b45d572",
   "metadata": {},
   "outputs": [],
   "source": [
    "#create a plot\n",
    "p=figure(\n",
    "        title=\"Resizing plot\",\n",
    "        width=350,\n",
    "        height=250,\n",
    "        x_axis_label=\"x\",\n",
    "        y_axis_label=\"y\",\n",
    "        #by using sizing_mode attribute we can set automatic size of plot in browser\n",
    "#         sizing_mode=\"stretch_width\"\n",
    ")\n",
    "#we can change width and height after plot creation\n",
    "p.width=500\n",
    "p.height=350\n",
    "p.background_fill_color=\"white\"\n",
    "#adding circle render\n",
    "p.circle(x,y,fill_color=\"red\",size=20)\n",
    "show(p)"
   ]
  },
  {
   "cell_type": "code",
   "execution_count": 36,
   "id": "2cb41143",
   "metadata": {},
   "outputs": [],
   "source": [
    "p.width=500\n",
    "p.height=350\n",
    "p.background_fill_color=\"white\"\n",
    "#adding circle render\n",
    "p.circle(x,y,fill_color=\"red\",size=20)\n",
    "show(p)"
   ]
  },
  {
   "cell_type": "markdown",
   "id": "cc76b686",
   "metadata": {},
   "source": [
    "# Customizing axes"
   ]
  },
  {
   "cell_type": "code",
   "execution_count": 46,
   "id": "bc27466a",
   "metadata": {},
   "outputs": [],
   "source": [
    "from bokeh.plotting import figure, show\n",
    "\n",
    "# prepare some data\n",
    "x = [1, 2, 3, 4, 5]\n",
    "y = [4, 5, 5, 7, 2]\n",
    "\n",
    "# create a plot\n",
    "p = figure(\n",
    "    y_range=(0,15),\n",
    "    title=\"Customized axes example\",\n",
    "    sizing_mode=\"stretch_width\",\n",
    "    max_width=500,\n",
    "    height=350,\n",
    ")\n",
    "\n",
    "# add a renderer\n",
    "p.circle(x, y, size=10)\n",
    "\n",
    "# change some things about the x-axis\n",
    "p.xaxis.axis_label = \"Acceleration\"\n",
    "p.xaxis.axis_line_width = 3\n",
    "p.xaxis.axis_line_color = \"red\"\n",
    "p.xaxis.major_label_text_color=\"yellow\"\n",
    "# change some things about the y-axis\n",
    "p.yaxis.axis_label = \"Velocity\"\n",
    "p.yaxis.major_label_text_color = \"orange\"\n",
    "p.yaxis.major_label_orientation = \"vertical\"\n",
    "\n",
    "# change things on all axes\n",
    "p.axis.minor_tick_in = -3\n",
    "p.axis.minor_tick_out = 6\n",
    "\n",
    "# show the results\n",
    "show(p)"
   ]
  },
  {
   "cell_type": "markdown",
   "id": "2d2c49f2",
   "metadata": {},
   "source": [
    "# Formatting axis ticks"
   ]
  },
  {
   "cell_type": "code",
   "execution_count": 47,
   "id": "921698b2",
   "metadata": {},
   "outputs": [],
   "source": [
    "from bokeh.models import NumeralTickFormatter\n",
    "from bokeh.plotting import figure, show\n",
    "\n",
    "# prepare some data\n",
    "x = [1, 2, 3, 4, 5]\n",
    "y = [4, 5, 5, 7, 2]\n",
    "\n",
    "# create new plot\n",
    "p = figure(\n",
    "    title=\"Tick formatter example\",\n",
    "    sizing_mode=\"stretch_width\",\n",
    "    max_width=500,\n",
    "    height=250,\n",
    ")\n",
    "\n",
    "# format axes ticks\n",
    "p.yaxis[0].formatter = NumeralTickFormatter(format=\"$0.00\")\n",
    "\n",
    "# add renderers\n",
    "p.circle(x, y, size=8)\n",
    "p.line(x, y, color=\"navy\", line_width=1)\n",
    "\n",
    "# show the results\n",
    "show(p)"
   ]
  },
  {
   "cell_type": "markdown",
   "id": "a87a7162",
   "metadata": {},
   "source": [
    "# Enabling logarithmic axes"
   ]
  },
  {
   "cell_type": "code",
   "execution_count": 48,
   "id": "eafc5ae7",
   "metadata": {},
   "outputs": [],
   "source": [
    "from bokeh.plotting import figure, show\n",
    "\n",
    "# prepare some data\n",
    "x = [0.1, 0.5, 1.0, 1.5, 2.0, 2.5, 3.0]\n",
    "y0 = [i**2 for i in x]\n",
    "y1 = [10**i for i in x]\n",
    "y2 = [10**(i**2) for i in x]\n",
    "\n",
    "# create a new plot with a logarithmic axis type\n",
    "p = figure(\n",
    "    title=\"Logarithmic axis example\",\n",
    "    sizing_mode=\"stretch_width\",\n",
    "    height=300,\n",
    "    max_width=500,\n",
    "    y_axis_type=\"log\",\n",
    "    y_range=[0.001, 10 ** 11],\n",
    "    x_axis_label=\"sections\",\n",
    "    y_axis_label=\"particles\",\n",
    ")\n",
    "\n",
    "# add some renderers\n",
    "p.line(x, x, legend_label=\"y=x\")\n",
    "p.circle(x, x, legend_label=\"y=x\", fill_color=\"white\", size=8)\n",
    "p.line(x, y0, legend_label=\"y=x^2\", line_width=3)\n",
    "p.line(x, y1, legend_label=\"y=10^x\", line_color=\"red\")\n",
    "p.circle(x, y1, legend_label=\"y=10^x\", fill_color=\"red\", line_color=\"red\", size=6)\n",
    "p.line(x, y2, legend_label=\"y=10^x^2\", line_color=\"orange\", line_dash=\"4 4\")\n",
    "\n",
    "# show the results\n",
    "show(p)"
   ]
  },
  {
   "cell_type": "code",
   "execution_count": 50,
   "id": "345b25dc",
   "metadata": {},
   "outputs": [],
   "source": [
    "#plot again\n",
    "\n",
    "from bokeh.plotting import figure, show\n",
    "\n",
    "# prepare some data\n",
    "x = [0.1, 0.5, 1.0, 1.5, 2.0, 2.5, 3.0]\n",
    "y0 = [i**3 for i in x]\n",
    "y1 = [100**i for i in x]\n",
    "y2 = [10**(i**2) for i in x]"
   ]
  },
  {
   "cell_type": "code",
   "execution_count": 52,
   "id": "8dd81e61",
   "metadata": {},
   "outputs": [],
   "source": [
    "# create a new plot with a logarithmic axis type\n",
    "p = figure(\n",
    "    title=\"Logarithmic axis example\",\n",
    "    sizing_mode=\"stretch_width\",\n",
    "    height=400,\n",
    "    max_width=800,\n",
    "    y_axis_type=\"log\",\n",
    "    y_range=[0.001, 10 ** 11],\n",
    "    x_axis_label=\"sections\",\n",
    "    y_axis_label=\"particles\",\n",
    ")"
   ]
  },
  {
   "cell_type": "code",
   "execution_count": 54,
   "id": "c891054e",
   "metadata": {},
   "outputs": [],
   "source": [
    "# add some renderers\n",
    "p.line(x, x, legend_label=\"y=x\")\n",
    "p.circle(x, x, legend_label=\"y=x\", fill_color=\"white\", size=8)\n",
    "p.line(x, y0, legend_label=\"y=x^2\", line_width=3)\n",
    "p.line(x, y1, legend_label=\"y=10^x\", line_color=\"red\")\n",
    "p.circle(x, y1, legend_label=\"y=10^x\", fill_color=\"red\", line_color=\"red\", size=6)\n",
    "p.line(x, y2, legend_label=\"y=10^x^2\", line_color=\"orange\", line_dash=\"4 4\")\n",
    "\n",
    "# show the results\n",
    "show(p)"
   ]
  },
  {
   "cell_type": "markdown",
   "id": "50d109cc",
   "metadata": {},
   "source": [
    "# Enabling datetime axes"
   ]
  },
  {
   "cell_type": "code",
   "execution_count": 59,
   "id": "28d22d71",
   "metadata": {},
   "outputs": [],
   "source": [
    "import random\n",
    "from datetime import datetime, timedelta\n",
    "\n",
    "from bokeh.models import DatetimeTickFormatter, NumeralTickFormatter\n",
    "from bokeh.plotting import figure, show\n",
    "\n",
    "# generate list of dates (today's date in subsequent weeks)\n",
    "dates = [(datetime.now() + timedelta(day * 7)) for day in range(0, 30)]\n",
    "\n",
    "# generate 25 random data points\n",
    "y = random.sample(range(0, 100), 30)\n",
    "\n",
    "# create new plot\n",
    "p = figure(\n",
    "    title=\"datetime axis example\",\n",
    "    x_axis_type=\"datetime\",\n",
    "    sizing_mode=\"stretch_width\",\n",
    "    max_width=800,\n",
    "    height=250,\n",
    ")\n",
    "\n",
    "# add renderers\n",
    "p.circle(dates, y, size=8)\n",
    "p.line(dates, y, color=\"navy\", line_width=1)\n",
    "\n",
    "# format axes ticks\n",
    "p.yaxis[0].formatter = NumeralTickFormatter(format=\"$0.00\")\n",
    "p.xaxis[0].formatter = DatetimeTickFormatter(months=\"%b %Y\")\n",
    "\n",
    "# show the results\n",
    "show(p)"
   ]
  },
  {
   "cell_type": "markdown",
   "id": "1ca77bdc",
   "metadata": {},
   "source": [
    "# Customizing the grid"
   ]
  },
  {
   "cell_type": "code",
   "execution_count": 60,
   "id": "50fe80dd",
   "metadata": {},
   "outputs": [],
   "source": [
    "from bokeh.plotting import figure, show\n",
    "\n",
    "# prepare some data\n",
    "x = [1, 2, 3, 4, 5]\n",
    "y = [4, 5, 5, 7, 2]\n",
    "\n",
    "# create a plot\n",
    "p = figure(\n",
    "    title=\"Customized grid lines example\",\n",
    "    sizing_mode=\"stretch_width\",\n",
    "    max_width=500,\n",
    "    height=250,\n",
    ")\n",
    "\n",
    "# add a renderer\n",
    "p.line(x, y, line_color=\"green\", line_width=2)\n",
    "\n",
    "# change things only on the x-grid\n",
    "p.xgrid.grid_line_color = \"red\"\n",
    "\n",
    "# change things only on the y-grid\n",
    "p.ygrid.grid_line_alpha = 0.8\n",
    "p.ygrid.grid_line_dash = [6, 4]\n",
    "\n",
    "# show the results\n",
    "show(p)"
   ]
  },
  {
   "cell_type": "code",
   "execution_count": 72,
   "id": "4ab21fa6",
   "metadata": {},
   "outputs": [],
   "source": [
    "#plot again\n",
    "from bokeh.plotting import figure, show\n",
    "\n",
    "# prepare some data\n",
    "x = [1, 2, 3, 4, 5]\n",
    "y = [4, 5, 5, 7, 2]\n",
    "\n",
    "# create a plot\n",
    "p = figure(\n",
    "    title=\"Customized grid lines example\",\n",
    "    sizing_mode=\"stretch_width\",\n",
    "    max_width=500,\n",
    "    height=250,\n",
    ")"
   ]
  },
  {
   "cell_type": "code",
   "execution_count": 73,
   "id": "988d6ee4",
   "metadata": {},
   "outputs": [],
   "source": [
    "# add a renderer\n",
    "p.line(x, y, line_color=\"yellow\", line_width=3)\n",
    "\n",
    "# change things only on the x-grid\n",
    "p.xgrid.grid_line_color = \"red\"\n",
    "p.xgrid.grid_line_dash=[6,4]\n",
    "\n",
    "# change things only on the y-grid\n",
    "p.ygrid.grid_line_color=\"green\"\n",
    "p.ygrid.grid_line_alpha = 0.8\n",
    "p.ygrid.grid_line_dash = [8, 4]\n",
    "\n",
    "#change background color\n",
    "p.background_fill_color=\"darkgrey\"\n",
    "\n",
    "#show plot\n",
    "show(p)"
   ]
  },
  {
   "cell_type": "markdown",
   "id": "6d80721a",
   "metadata": {},
   "source": [
    "we can change the background color "
   ]
  },
  {
   "cell_type": "code",
   "execution_count": 69,
   "id": "e23e0ab8",
   "metadata": {},
   "outputs": [],
   "source": [
    "#change the fill colors\n",
    "p.background_fill_color = (204, 255, 255)\n",
    "p.border_fill_color = (102, 204, 255)\n",
    "p.outline_line_color = (0, 0, 255)\n",
    "\n",
    "show(p)"
   ]
  },
  {
   "cell_type": "markdown",
   "id": "e011fd51",
   "metadata": {},
   "source": [
    "# Positioning the toolbar"
   ]
  },
  {
   "cell_type": "code",
   "execution_count": 71,
   "id": "6a7bc47d",
   "metadata": {},
   "outputs": [],
   "source": [
    "from bokeh.models import BoxZoomTool, PanTool, ResetTool\n",
    "from bokeh.plotting import figure, show\n",
    "\n",
    "# prepare some data\n",
    "x = [1, 2, 3, 4, 5]\n",
    "y = [4, 5, 5, 7, 2]\n",
    "\n",
    "# create a plot\n",
    "p = figure(\n",
    "    title=\"Modifying tools example\",\n",
    "    tools=[BoxZoomTool(), ResetTool()],\n",
    "    sizing_mode=\"stretch_width\",\n",
    "    max_width=500,\n",
    "    height=250,\n",
    ")\n",
    "\n",
    "# add an additional pan tool\n",
    "# only vertical panning is allowed\n",
    "p.add_tools(PanTool(dimensions=\"width\"))\n",
    "\n",
    "# add a renderer\n",
    "p.circle(x, y, size=10)\n",
    "\n",
    "# show the results\n",
    "show(p)"
   ]
  },
  {
   "cell_type": "markdown",
   "id": "d5e71ea9",
   "metadata": {},
   "source": [
    "# Adding tooltips"
   ]
  },
  {
   "cell_type": "code",
   "execution_count": 74,
   "id": "fc06dde5",
   "metadata": {},
   "outputs": [],
   "source": [
    "# to automatically hide tool bar we use this\n",
    "p.toolbar.autohide = True\n"
   ]
  },
  {
   "cell_type": "code",
   "execution_count": 75,
   "id": "7d596af7",
   "metadata": {},
   "outputs": [],
   "source": [
    "from bokeh.models import HoverTool\n",
    "from bokeh.plotting import figure, show\n",
    "\n",
    "# prepare some data\n",
    "x = [1, 2, 3, 4, 5]\n",
    "y = [4, 5, 5, 7, 2]\n",
    "\n",
    "p = figure(\n",
    "    y_range=(0, 10),\n",
    "    toolbar_location=None,\n",
    "    tools=[HoverTool()],\n",
    "    tooltips=\"Data point @x has the value @y\",\n",
    "    sizing_mode=\"stretch_width\",\n",
    "    max_width=500,\n",
    "    height=250,\n",
    ")\n",
    "\n",
    "# add renderers\n",
    "p.circle(x, y, size=10)\n",
    "p.line(x, y, line_width=2)\n",
    "\n",
    "# show the results\n",
    "show(p)"
   ]
  },
  {
   "cell_type": "markdown",
   "id": "8f12fa61",
   "metadata": {},
   "source": [
    "# First steps 5: Vectorizing glyph properties"
   ]
  },
  {
   "cell_type": "code",
   "execution_count": 78,
   "id": "071dff9d",
   "metadata": {},
   "outputs": [],
   "source": [
    "import random\n",
    "\n",
    "from bokeh.plotting import figure, show\n",
    "\n",
    "# generate some data (1-10 for x, random values for y)\n",
    "x = list(range(0, 26))\n",
    "y = random.sample(range(0, 100), 26)\n",
    "\n",
    "# generate list of rgb hex colors in relation to y\n",
    "colors = [f\"#{255:02x}{int((value * 255) / 100):02x}{255:02x}\" for value in y]\n",
    "\n",
    "# create new plot\n",
    "p = figure(\n",
    "    title=\"Vectorized colors example\",\n",
    "    sizing_mode=\"stretch_width\",\n",
    "    max_width=500,\n",
    "    height=250,\n",
    ")\n",
    "\n",
    "# add circle and line renderers\n",
    "line = p.line(x, y, line_color=\"blue\", line_width=1)\n",
    "circle = p.circle(x, y, fill_color=colors, line_color=\"blue\", size=15)\n",
    "\n",
    "# show the results\n",
    "show(p)"
   ]
  },
  {
   "cell_type": "code",
   "execution_count": 79,
   "id": "c378b905",
   "metadata": {},
   "outputs": [],
   "source": [
    "#plot again\n",
    "import random\n",
    "\n",
    "from bokeh.plotting import figure, show\n"
   ]
  },
  {
   "cell_type": "code",
   "execution_count": 80,
   "id": "228d9cbf",
   "metadata": {},
   "outputs": [],
   "source": [
    "# generate some data (1-10 for x, random values for y)\n",
    "x = list(range(0, 26))\n",
    "y = random.sample(range(0, 100), 26)\n",
    "\n",
    "# generate list of rgb hex colors in relation to y\n",
    "colors = [f\"#{255:02x}{int((value * 255) / 100):02x}{255:02x}\" for value in y]"
   ]
  },
  {
   "cell_type": "code",
   "execution_count": 81,
   "id": "82e325d6",
   "metadata": {},
   "outputs": [],
   "source": [
    "# create new plot\n",
    "p = figure(\n",
    "    title=\"Vectorized colors example\",\n",
    "    sizing_mode=\"stretch_width\",\n",
    "    max_width=800,\n",
    "    height=350,\n",
    ")\n",
    "# add circle and line renderers\n",
    "line = p.line(x, y, line_color=\"blue\", line_width=1)\n",
    "circle = p.circle(x, y, fill_color=colors, line_color=\"blue\", size=15)\n",
    "\n",
    "# show the results\n",
    "show(p)"
   ]
  },
  {
   "cell_type": "markdown",
   "id": "9bb6f4f8",
   "metadata": {},
   "source": [
    "# Vectorizing colors and sizes"
   ]
  },
  {
   "cell_type": "code",
   "execution_count": 82,
   "id": "9ac3a580",
   "metadata": {},
   "outputs": [],
   "source": [
    "import numpy as np\n",
    "\n",
    "from bokeh.plotting import figure, show\n",
    "\n",
    "# generate some data\n",
    "N = 1000\n",
    "x = np.random.random(size=N) * 100\n",
    "y = np.random.random(size=N) * 100\n",
    "\n",
    "# generate radii and colors based on data\n",
    "radii = y / 100 * 2\n",
    "colors = [f\"#{255:02x}{int((value * 255) / 100):02x}{255:02x}\" for value in y]\n",
    "\n",
    "# create a new plot with a specific size\n",
    "p = figure(\n",
    "    title=\"Vectorized colors and radii example\",\n",
    "    sizing_mode=\"stretch_width\",\n",
    "    max_width=500,\n",
    "    height=250,\n",
    ")\n",
    "\n",
    "# add circle renderer\n",
    "p.circle(\n",
    "    x,\n",
    "    y,\n",
    "    radius=radii,\n",
    "    fill_color=colors,\n",
    "    fill_alpha=0.6,\n",
    "    line_color=\"lightgrey\",\n",
    ")\n",
    "\n",
    "# show the results\n",
    "show(p)"
   ]
  },
  {
   "cell_type": "code",
   "execution_count": 90,
   "id": "6064bcc0",
   "metadata": {},
   "outputs": [],
   "source": [
    "#plot again\n",
    "import numpy as np\n",
    "\n",
    "from bokeh.plotting import figure, show\n",
    "\n",
    "# generate some data\n",
    "N = 1000\n",
    "x = np.random.random(size=N) * 100\n",
    "y = np.random.random(size=N) * 100\n"
   ]
  },
  {
   "cell_type": "code",
   "execution_count": 91,
   "id": "221cda92",
   "metadata": {},
   "outputs": [],
   "source": [
    "# generate radii and colors based on data\n",
    "radii = y / 100 * 2\n",
    "colors = [f\"#{255:02x}{int((value * 255) / 100):02x}{255:02x}\" for value in y]\n"
   ]
  },
  {
   "cell_type": "code",
   "execution_count": 92,
   "id": "22d94c42",
   "metadata": {},
   "outputs": [],
   "source": [
    "# add circle renderer with radius and color\n",
    "p.circle(\n",
    "    x,\n",
    "    y,\n",
    "    radius=radii,\n",
    "    fill_color=colors,\n",
    "    fill_alpha=0.8,\n",
    "    line_color=\"green\",\n",
    ")\n",
    "\n",
    "# show the results\n",
    "show(p)"
   ]
  },
  {
   "cell_type": "markdown",
   "id": "ea79f617",
   "metadata": {},
   "source": [
    "# Color mapping with palettes"
   ]
  },
  {
   "cell_type": "code",
   "execution_count": 93,
   "id": "ebc32282",
   "metadata": {},
   "outputs": [],
   "source": [
    "from bokeh.io import show\n",
    "from bokeh.palettes import Turbo256\n",
    "from bokeh.plotting import figure\n",
    "from bokeh.transform import linear_cmap\n",
    "\n",
    "# generate data\n",
    "x = list(range(-32, 33))\n",
    "y = [i**2 for i in x]\n",
    "\n",
    "# create linear color mapper\n",
    "mapper = linear_cmap(field_name=\"y\", palette=Turbo256, low=min(y), high=max(y))\n",
    "\n",
    "# create plot\n",
    "p = figure(width=500, height=250)\n",
    "\n",
    "# create circle renderer with color mapper\n",
    "p.circle(x, y, color=mapper, size=10)\n",
    "\n",
    "show(p)"
   ]
  },
  {
   "cell_type": "code",
   "execution_count": 94,
   "id": "c01a31b1",
   "metadata": {},
   "outputs": [],
   "source": [
    "#plot again\n",
    "from bokeh.io import show\n",
    "from bokeh.palettes import Turbo256\n",
    "from bokeh.plotting import figure\n",
    "from bokeh.transform import linear_cmap"
   ]
  },
  {
   "cell_type": "code",
   "execution_count": 95,
   "id": "ee062de1",
   "metadata": {},
   "outputs": [],
   "source": [
    "# generate data\n",
    "x = list(range(-32, 33))\n",
    "y = [i**2 for i in x]\n"
   ]
  },
  {
   "cell_type": "code",
   "execution_count": 97,
   "id": "0834bd9a",
   "metadata": {},
   "outputs": [],
   "source": [
    "# create linear color mapper\n",
    "mapper = linear_cmap(field_name=\"y\", palette=Turbo256, low=min(y), high=max(y))\n",
    "\n",
    "# create plot\n",
    "p = figure(width=500, height=250)\n",
    "\n",
    "#change the background color\n",
    "p.background_fill_color=\"grey\"\n",
    "# create circle renderer with color mapper\n",
    "p.circle(x, y, color=mapper, size=10)\n",
    "\n",
    "show(p)"
   ]
  },
  {
   "cell_type": "code",
   "execution_count": null,
   "id": "1624f4ad",
   "metadata": {},
   "outputs": [],
   "source": []
  }
 ],
 "metadata": {
  "kernelspec": {
   "display_name": "Python 3 (ipykernel)",
   "language": "python",
   "name": "python3"
  },
  "language_info": {
   "codemirror_mode": {
    "name": "ipython",
    "version": 3
   },
   "file_extension": ".py",
   "mimetype": "text/x-python",
   "name": "python",
   "nbconvert_exporter": "python",
   "pygments_lexer": "ipython3",
   "version": "3.10.9"
  }
 },
 "nbformat": 4,
 "nbformat_minor": 5
}
